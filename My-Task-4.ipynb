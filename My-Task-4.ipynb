{
 "cells": [
  {
   "cell_type": "markdown",
   "id": "8b34829f",
   "metadata": {},
   "source": [
    "# import necessary libraries\n",
    "\n",
    "import pandas as pd\n",
    "import numpy as np\n",
    "import csv\n",
    "import matplotlib.pyplot as plt"
   ]
  },
  {
   "cell_type": "code",
   "execution_count": 11,
   "id": "0a69e4bf",
   "metadata": {},
   "outputs": [],
   "source": [
    "#merge those two csv files (after getting as dataframes, get them as a single dataframe\n",
    "x = pd.read_csv(\"college_1.csv\")\n",
    "y = pd.read_csv(\"college_2.csv\")\n",
    "\n",
    "df1=pd.DataFrame(x)\n",
    "df2=pd.DataFrame(y)\n",
    "z=[df1,df2]\n",
    "df3=pd.concat(z)"
   ]
  },
  {
   "cell_type": "code",
   "execution_count": 12,
   "id": "d7f9ccaf",
   "metadata": {},
   "outputs": [],
   "source": [
    "#Take each csv file , split that csv file into multiple categories\n",
    "#consider if the codekata score exceeds 15000 points(present week) then make a csv on those observations as Exceeded expectations.csv\n",
    "#if 10000<codekata score<15000 (Reached_expectations.csv)\n",
    "#if 7000<codekata score<10000 (Needs_Improvement.csv)\n",
    "#if codekate score < 7000 (Unsatisfactory.csv)"
   ]
  },
  {
   "cell_type": "code",
   "execution_count": 13,
   "id": "5069770e",
   "metadata": {},
   "outputs": [],
   "source": [
    "#Average of previous week geekions vs this week geekions (i.e Previous Geekions vs CodeKata Score)"
   ]
  },
  {
   "cell_type": "code",
   "execution_count": 14,
   "id": "097fcdf1",
   "metadata": {},
   "outputs": [],
   "source": [
    "Previous_Geekions_Average=df3['Previous Geekions'].mean()\n",
    "CodeKata_Score_Average=df3['CodeKata Score'].mean()"
   ]
  },
  {
   "cell_type": "code",
   "execution_count": 15,
   "id": "9808ed3e",
   "metadata": {},
   "outputs": [
    {
     "name": "stdout",
     "output_type": "stream",
     "text": [
      "Average of previous week geekions vs this week geekions is 3842.35 4051.76\n"
     ]
    }
   ],
   "source": [
    "print(\"Average of previous week geekions vs this week geekions is\",+round(Previous_Geekions_Average,2),+round(CodeKata_Score_Average,2))\n"
   ]
  },
  {
   "cell_type": "markdown",
   "id": "b6cfe352",
   "metadata": {},
   "source": [
    "# No of students participated"
   ]
  },
  {
   "cell_type": "code",
   "execution_count": 16,
   "id": "0f757089",
   "metadata": {},
   "outputs": [
    {
     "name": "stdout",
     "output_type": "stream",
     "text": [
      "No of students participated are : 119\n"
     ]
    }
   ],
   "source": [
    "sd=len(df3['Name'])\n",
    "print(\"No of students participated are :\",sd)"
   ]
  },
  {
   "cell_type": "code",
   "execution_count": 17,
   "id": "52ee7079",
   "metadata": {},
   "outputs": [],
   "source": []
  },
  {
   "cell_type": "code",
   "execution_count": null,
   "id": "ded2e8dc",
   "metadata": {},
   "outputs": [],
   "source": []
  }
 ],
 "metadata": {
  "kernelspec": {
   "display_name": "Python 3 (ipykernel)",
   "language": "python",
   "name": "python3"
  },
  "language_info": {
   "codemirror_mode": {
    "name": "ipython",
    "version": 3
   },
   "file_extension": ".py",
   "mimetype": "text/x-python",
   "name": "python",
   "nbconvert_exporter": "python",
   "pygments_lexer": "ipython3",
   "version": "3.9.12"
  }
 },
 "nbformat": 4,
 "nbformat_minor": 5
}
