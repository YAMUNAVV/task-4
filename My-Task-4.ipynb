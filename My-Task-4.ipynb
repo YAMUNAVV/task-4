{
 "cells": [
  {
   "cell_type": "markdown",
   "id": "7c029cbf",
   "metadata": {},
   "source": [
    "# import necessary libraries"
   ]
  },
  {
   "cell_type": "code",
   "execution_count": 28,
   "id": "6e2188d9",
   "metadata": {},
   "outputs": [],
   "source": [
    "import pandas as pd\n",
    "import numpy as np\n",
    "import csv\n",
    "import matplotlib.pyplot as plt"
   ]
  },
  {
   "cell_type": "code",
   "execution_count": 11,
   "id": "0a69e4bf",
   "metadata": {},
   "outputs": [],
   "source": [
    "#merge those two csv files (after getting as dataframes, get them as a single dataframe\n",
    "\n",
    "x = pd.read_csv(\"college_1.csv\")\n",
    "y = pd.read_csv(\"college_2.csv\")\n",
    "\n",
    "df1=pd.DataFrame(x)\n",
    "df2=pd.DataFrame(y)\n",
    "z=[df1,df2]\n",
    "df3=pd.concat(z)"
   ]
  },
  {
   "cell_type": "code",
   "execution_count": 30,
   "id": "d7f9ccaf",
   "metadata": {},
   "outputs": [],
   "source": [
    "#Take each csv file , split that csv file into multiple categories\n",
    "#consider if the codekata score exceeds 15000 points(present week) \n",
    "#then make a csv on those observations as Exceeded expectations.csv\n",
    "#if 10000<codekata score<15000 (Reached_expectations.csv)\n",
    "#if 7000<codekata score<10000 (Needs_Improvement.csv)\n",
    "#if codekate score < 7000 (Unsatisfactory.csv)"
   ]
  },
  {
   "cell_type": "code",
   "execution_count": 31,
   "id": "5069770e",
   "metadata": {},
   "outputs": [],
   "source": [
    "#Average of previous week geekions vs this week geekions (i.e Previous Geekions vs CodeKata Score)"
   ]
  },
  {
   "cell_type": "code",
   "execution_count": 32,
   "id": "097fcdf1",
   "metadata": {},
   "outputs": [],
   "source": [
    "Previous_Geekions_Average=df3['Previous Geekions'].mean()\n",
    "CodeKata_Score_Average=df3['CodeKata Score'].mean()"
   ]
  },
  {
   "cell_type": "code",
   "execution_count": 33,
   "id": "9808ed3e",
   "metadata": {},
   "outputs": [
    {
     "name": "stdout",
     "output_type": "stream",
     "text": [
      "Average of previous week geekions vs this week geekions is 3842.35 4051.76\n"
     ]
    }
   ],
   "source": [
    "print(\"Average of previous week geekions vs this week geekions is\",\n",
    "      +round(Previous_Geekions_Average,2),+round(CodeKata_Score_Average,2))"
   ]
  },
  {
   "cell_type": "markdown",
   "id": "b6cfe352",
   "metadata": {},
   "source": [
    "# No of students participated"
   ]
  },
  {
   "cell_type": "code",
   "execution_count": 16,
   "id": "0f757089",
   "metadata": {},
   "outputs": [
    {
     "name": "stdout",
     "output_type": "stream",
     "text": [
      "No of students participated are : 119\n"
     ]
    }
   ],
   "source": [
    "sd=len(df3['Name'])\n",
    "print(\"No of students participated are :\",sd)"
   ]
  },
  {
   "cell_type": "code",
   "execution_count": 17,
   "id": "52ee7079",
   "metadata": {},
   "outputs": [],
   "source": [
    "#Average completion of python course or my_sql or python english or computational thinking"
   ]
  },
  {
   "cell_type": "code",
   "execution_count": 18,
   "id": "ded2e8dc",
   "metadata": {},
   "outputs": [
    {
     "name": "stdout",
     "output_type": "stream",
     "text": [
      "54.35294117647059\n",
      "23.5\n",
      "29.65714285714286\n",
      "2.2\n"
     ]
    }
   ],
   "source": [
    "python_average = df3[\"python\"].mean()\n",
    "mysql_average = df3[\"mysql\"].mean()\n",
    "python_english_average = df3[\"python_en\"].mean()\n",
    "computational_average = df3[\"computational_thinking\"].mean()\n",
    "\n",
    "print(python_average)\n",
    "print(mysql_average)\n",
    "print(python_english_average) \n",
    "print(computational_average)"
   ]
  },
  {
   "cell_type": "markdown",
   "id": "3426f008",
   "metadata": {},
   "source": [
    "# rising star of the week (top 3 candidate who performed well in that particular week)"
   ]
  },
  {
   "cell_type": "code",
   "execution_count": 20,
   "id": "dcf9b5c4",
   "metadata": {},
   "outputs": [
    {
     "data": {
      "text/html": [
       "<div>\n",
       "<style scoped>\n",
       "    .dataframe tbody tr th:only-of-type {\n",
       "        vertical-align: middle;\n",
       "    }\n",
       "\n",
       "    .dataframe tbody tr th {\n",
       "        vertical-align: top;\n",
       "    }\n",
       "\n",
       "    .dataframe thead th {\n",
       "        text-align: right;\n",
       "    }\n",
       "</style>\n",
       "<table border=\"1\" class=\"dataframe\">\n",
       "  <thead>\n",
       "    <tr style=\"text-align: right;\">\n",
       "      <th></th>\n",
       "      <th>Name</th>\n",
       "      <th>python</th>\n",
       "      <th>mysql</th>\n",
       "      <th>Previous Geekions</th>\n",
       "      <th>CodeKata Score</th>\n",
       "      <th>Department</th>\n",
       "      <th>Rising</th>\n",
       "      <th>python_en</th>\n",
       "      <th>computational_thinking</th>\n",
       "    </tr>\n",
       "  </thead>\n",
       "  <tbody>\n",
       "    <tr>\n",
       "      <th>0</th>\n",
       "      <td>A.Dharani</td>\n",
       "      <td>82.0</td>\n",
       "      <td>20.0</td>\n",
       "      <td>24500</td>\n",
       "      <td>24500</td>\n",
       "      <td>Computer Science and Engineering</td>\n",
       "      <td>0</td>\n",
       "      <td>NaN</td>\n",
       "      <td>NaN</td>\n",
       "    </tr>\n",
       "    <tr>\n",
       "      <th>1</th>\n",
       "      <td>V.JEEVITHA</td>\n",
       "      <td>82.0</td>\n",
       "      <td>20.0</td>\n",
       "      <td>21740</td>\n",
       "      <td>21740</td>\n",
       "      <td>Computer Science and Engineering</td>\n",
       "      <td>0</td>\n",
       "      <td>NaN</td>\n",
       "      <td>NaN</td>\n",
       "    </tr>\n",
       "    <tr>\n",
       "      <th>2</th>\n",
       "      <td>HEMAVATHI.R</td>\n",
       "      <td>100.0</td>\n",
       "      <td>100.0</td>\n",
       "      <td>19680</td>\n",
       "      <td>19680</td>\n",
       "      <td>Computer Science and Engineering</td>\n",
       "      <td>0</td>\n",
       "      <td>NaN</td>\n",
       "      <td>NaN</td>\n",
       "    </tr>\n",
       "  </tbody>\n",
       "</table>\n",
       "</div>"
      ],
      "text/plain": [
       "          Name  python  mysql  Previous Geekions  CodeKata Score  \\\n",
       "0    A.Dharani    82.0   20.0              24500           24500   \n",
       "1  V.JEEVITHA     82.0   20.0              21740           21740   \n",
       "2  HEMAVATHI.R   100.0  100.0              19680           19680   \n",
       "\n",
       "                         Department  Rising  python_en  computational_thinking  \n",
       "0  Computer Science and Engineering       0        NaN                     NaN  \n",
       "1  Computer Science and Engineering       0        NaN                     NaN  \n",
       "2  Computer Science and Engineering       0        NaN                     NaN  "
      ]
     },
     "execution_count": 20,
     "metadata": {},
     "output_type": "execute_result"
    }
   ],
   "source": [
    "Rising_star = df3.sort_values(by=['CodeKata Score'], ascending=False)\n",
    "Rising_star.head(3)"
   ]
  },
  {
   "cell_type": "markdown",
   "id": "1ccc3bf5",
   "metadata": {},
   "source": [
    "# Shining stars of the week (top 3 candidates who has highest geekions)"
   ]
  },
  {
   "cell_type": "code",
   "execution_count": 22,
   "id": "9db3d3d0",
   "metadata": {},
   "outputs": [
    {
     "data": {
      "text/html": [
       "<div>\n",
       "<style scoped>\n",
       "    .dataframe tbody tr th:only-of-type {\n",
       "        vertical-align: middle;\n",
       "    }\n",
       "\n",
       "    .dataframe tbody tr th {\n",
       "        vertical-align: top;\n",
       "    }\n",
       "\n",
       "    .dataframe thead th {\n",
       "        text-align: right;\n",
       "    }\n",
       "</style>\n",
       "<table border=\"1\" class=\"dataframe\">\n",
       "  <thead>\n",
       "    <tr style=\"text-align: right;\">\n",
       "      <th></th>\n",
       "      <th>Name</th>\n",
       "      <th>python</th>\n",
       "      <th>mysql</th>\n",
       "      <th>Previous Geekions</th>\n",
       "      <th>CodeKata Score</th>\n",
       "      <th>Department</th>\n",
       "      <th>Rising</th>\n",
       "      <th>python_en</th>\n",
       "      <th>computational_thinking</th>\n",
       "    </tr>\n",
       "  </thead>\n",
       "  <tbody>\n",
       "    <tr>\n",
       "      <th>0</th>\n",
       "      <td>A.Dharani</td>\n",
       "      <td>82.0</td>\n",
       "      <td>20.0</td>\n",
       "      <td>24500</td>\n",
       "      <td>24500</td>\n",
       "      <td>Computer Science and Engineering</td>\n",
       "      <td>0</td>\n",
       "      <td>NaN</td>\n",
       "      <td>NaN</td>\n",
       "    </tr>\n",
       "    <tr>\n",
       "      <th>1</th>\n",
       "      <td>V.JEEVITHA</td>\n",
       "      <td>82.0</td>\n",
       "      <td>20.0</td>\n",
       "      <td>21740</td>\n",
       "      <td>21740</td>\n",
       "      <td>Computer Science and Engineering</td>\n",
       "      <td>0</td>\n",
       "      <td>NaN</td>\n",
       "      <td>NaN</td>\n",
       "    </tr>\n",
       "    <tr>\n",
       "      <th>2</th>\n",
       "      <td>HEMAVATHI.R</td>\n",
       "      <td>100.0</td>\n",
       "      <td>100.0</td>\n",
       "      <td>19680</td>\n",
       "      <td>19680</td>\n",
       "      <td>Computer Science and Engineering</td>\n",
       "      <td>0</td>\n",
       "      <td>NaN</td>\n",
       "      <td>NaN</td>\n",
       "    </tr>\n",
       "  </tbody>\n",
       "</table>\n",
       "</div>"
      ],
      "text/plain": [
       "          Name  python  mysql  Previous Geekions  CodeKata Score  \\\n",
       "0    A.Dharani    82.0   20.0              24500           24500   \n",
       "1  V.JEEVITHA     82.0   20.0              21740           21740   \n",
       "2  HEMAVATHI.R   100.0  100.0              19680           19680   \n",
       "\n",
       "                         Department  Rising  python_en  computational_thinking  \n",
       "0  Computer Science and Engineering       0        NaN                     NaN  \n",
       "1  Computer Science and Engineering       0        NaN                     NaN  \n",
       "2  Computer Science and Engineering       0        NaN                     NaN  "
      ]
     },
     "execution_count": 22,
     "metadata": {},
     "output_type": "execute_result"
    }
   ],
   "source": [
    "Shining_star = df3.sort_values(by=['Previous Geekions'], ascending=False)\n",
    "Shining_star.head(3)"
   ]
  },
  {
   "cell_type": "markdown",
   "id": "d2ac3b4d",
   "metadata": {},
   "source": [
    "# Department wise codekata performence (pie chart)"
   ]
  },
  {
   "cell_type": "code",
   "execution_count": 35,
   "id": "e86066b6",
   "metadata": {},
   "outputs": [
    {
     "ename": "KeyError",
     "evalue": "'pie'",
     "output_type": "error",
     "traceback": [
      "\u001b[1;31m---------------------------------------------------------------------------\u001b[0m",
      "\u001b[1;31mKeyError\u001b[0m                                  Traceback (most recent call last)",
      "File \u001b[1;32m~\\anaconda3\\lib\\site-packages\\pandas\\core\\indexes\\base.py:3621\u001b[0m, in \u001b[0;36mIndex.get_loc\u001b[1;34m(self, key, method, tolerance)\u001b[0m\n\u001b[0;32m   3620\u001b[0m \u001b[38;5;28;01mtry\u001b[39;00m:\n\u001b[1;32m-> 3621\u001b[0m     \u001b[38;5;28;01mreturn\u001b[39;00m \u001b[38;5;28;43mself\u001b[39;49m\u001b[38;5;241;43m.\u001b[39;49m\u001b[43m_engine\u001b[49m\u001b[38;5;241;43m.\u001b[39;49m\u001b[43mget_loc\u001b[49m\u001b[43m(\u001b[49m\u001b[43mcasted_key\u001b[49m\u001b[43m)\u001b[49m\n\u001b[0;32m   3622\u001b[0m \u001b[38;5;28;01mexcept\u001b[39;00m \u001b[38;5;167;01mKeyError\u001b[39;00m \u001b[38;5;28;01mas\u001b[39;00m err:\n",
      "File \u001b[1;32m~\\anaconda3\\lib\\site-packages\\pandas\\_libs\\index.pyx:136\u001b[0m, in \u001b[0;36mpandas._libs.index.IndexEngine.get_loc\u001b[1;34m()\u001b[0m\n",
      "File \u001b[1;32m~\\anaconda3\\lib\\site-packages\\pandas\\_libs\\index.pyx:163\u001b[0m, in \u001b[0;36mpandas._libs.index.IndexEngine.get_loc\u001b[1;34m()\u001b[0m\n",
      "File \u001b[1;32mpandas\\_libs\\hashtable_class_helper.pxi:5198\u001b[0m, in \u001b[0;36mpandas._libs.hashtable.PyObjectHashTable.get_item\u001b[1;34m()\u001b[0m\n",
      "File \u001b[1;32mpandas\\_libs\\hashtable_class_helper.pxi:5206\u001b[0m, in \u001b[0;36mpandas._libs.hashtable.PyObjectHashTable.get_item\u001b[1;34m()\u001b[0m\n",
      "\u001b[1;31mKeyError\u001b[0m: 'pie'",
      "\nThe above exception was the direct cause of the following exception:\n",
      "\u001b[1;31mKeyError\u001b[0m                                  Traceback (most recent call last)",
      "Input \u001b[1;32mIn [35]\u001b[0m, in \u001b[0;36m<cell line: 1>\u001b[1;34m()\u001b[0m\n\u001b[1;32m----> 1\u001b[0m \u001b[43mdf3\u001b[49m\u001b[38;5;241;43m.\u001b[39;49m\u001b[43mgroupby\u001b[49m\u001b[43m(\u001b[49m\u001b[43m[\u001b[49m\u001b[38;5;124;43m'\u001b[39;49m\u001b[38;5;124;43mDepartment\u001b[39;49m\u001b[38;5;124;43m'\u001b[39;49m\u001b[43m]\u001b[49m\u001b[43m)\u001b[49m\u001b[38;5;241;43m.\u001b[39;49m\u001b[43msum\u001b[49m\u001b[43m(\u001b[49m\u001b[43m)\u001b[49m\u001b[38;5;241;43m.\u001b[39;49m\u001b[43mplot\u001b[49m\u001b[43m(\u001b[49m\u001b[43mx\u001b[49m\u001b[38;5;241;43m=\u001b[39;49m\u001b[38;5;124;43m'\u001b[39;49m\u001b[38;5;124;43mpie\u001b[39;49m\u001b[38;5;124;43m'\u001b[39;49m\u001b[43m,\u001b[49m\u001b[43m \u001b[49m\u001b[43my\u001b[49m\u001b[38;5;241;43m=\u001b[39;49m\u001b[38;5;124;43m'\u001b[39;49m\u001b[38;5;124;43mCodeKata Score\u001b[39;49m\u001b[38;5;124;43m'\u001b[39;49m\u001b[43m,\u001b[49m\n\u001b[0;32m      2\u001b[0m \u001b[43mtitle\u001b[49m\u001b[38;5;241;43m=\u001b[39;49m\u001b[38;5;124;43m'\u001b[39;49m\u001b[38;5;124;43mDepartment wise codekata performence\u001b[39;49m\u001b[38;5;124;43m'\u001b[39;49m\u001b[43m)\u001b[49m\n",
      "File \u001b[1;32m~\\anaconda3\\lib\\site-packages\\pandas\\plotting\\_core.py:937\u001b[0m, in \u001b[0;36mPlotAccessor.__call__\u001b[1;34m(self, *args, **kwargs)\u001b[0m\n\u001b[0;32m    935\u001b[0m \u001b[38;5;28;01mif\u001b[39;00m is_integer(x) \u001b[38;5;129;01mand\u001b[39;00m \u001b[38;5;129;01mnot\u001b[39;00m data\u001b[38;5;241m.\u001b[39mcolumns\u001b[38;5;241m.\u001b[39mholds_integer():\n\u001b[0;32m    936\u001b[0m     x \u001b[38;5;241m=\u001b[39m data_cols[x]\n\u001b[1;32m--> 937\u001b[0m \u001b[38;5;28;01melif\u001b[39;00m \u001b[38;5;129;01mnot\u001b[39;00m \u001b[38;5;28misinstance\u001b[39m(\u001b[43mdata\u001b[49m\u001b[43m[\u001b[49m\u001b[43mx\u001b[49m\u001b[43m]\u001b[49m, ABCSeries):\n\u001b[0;32m    938\u001b[0m     \u001b[38;5;28;01mraise\u001b[39;00m \u001b[38;5;167;01mValueError\u001b[39;00m(\u001b[38;5;124m\"\u001b[39m\u001b[38;5;124mx must be a label or position\u001b[39m\u001b[38;5;124m\"\u001b[39m)\n\u001b[0;32m    939\u001b[0m data \u001b[38;5;241m=\u001b[39m data\u001b[38;5;241m.\u001b[39mset_index(x)\n",
      "File \u001b[1;32m~\\anaconda3\\lib\\site-packages\\pandas\\core\\frame.py:3505\u001b[0m, in \u001b[0;36mDataFrame.__getitem__\u001b[1;34m(self, key)\u001b[0m\n\u001b[0;32m   3503\u001b[0m \u001b[38;5;28;01mif\u001b[39;00m \u001b[38;5;28mself\u001b[39m\u001b[38;5;241m.\u001b[39mcolumns\u001b[38;5;241m.\u001b[39mnlevels \u001b[38;5;241m>\u001b[39m \u001b[38;5;241m1\u001b[39m:\n\u001b[0;32m   3504\u001b[0m     \u001b[38;5;28;01mreturn\u001b[39;00m \u001b[38;5;28mself\u001b[39m\u001b[38;5;241m.\u001b[39m_getitem_multilevel(key)\n\u001b[1;32m-> 3505\u001b[0m indexer \u001b[38;5;241m=\u001b[39m \u001b[38;5;28;43mself\u001b[39;49m\u001b[38;5;241;43m.\u001b[39;49m\u001b[43mcolumns\u001b[49m\u001b[38;5;241;43m.\u001b[39;49m\u001b[43mget_loc\u001b[49m\u001b[43m(\u001b[49m\u001b[43mkey\u001b[49m\u001b[43m)\u001b[49m\n\u001b[0;32m   3506\u001b[0m \u001b[38;5;28;01mif\u001b[39;00m is_integer(indexer):\n\u001b[0;32m   3507\u001b[0m     indexer \u001b[38;5;241m=\u001b[39m [indexer]\n",
      "File \u001b[1;32m~\\anaconda3\\lib\\site-packages\\pandas\\core\\indexes\\base.py:3623\u001b[0m, in \u001b[0;36mIndex.get_loc\u001b[1;34m(self, key, method, tolerance)\u001b[0m\n\u001b[0;32m   3621\u001b[0m     \u001b[38;5;28;01mreturn\u001b[39;00m \u001b[38;5;28mself\u001b[39m\u001b[38;5;241m.\u001b[39m_engine\u001b[38;5;241m.\u001b[39mget_loc(casted_key)\n\u001b[0;32m   3622\u001b[0m \u001b[38;5;28;01mexcept\u001b[39;00m \u001b[38;5;167;01mKeyError\u001b[39;00m \u001b[38;5;28;01mas\u001b[39;00m err:\n\u001b[1;32m-> 3623\u001b[0m     \u001b[38;5;28;01mraise\u001b[39;00m \u001b[38;5;167;01mKeyError\u001b[39;00m(key) \u001b[38;5;28;01mfrom\u001b[39;00m \u001b[38;5;21;01merr\u001b[39;00m\n\u001b[0;32m   3624\u001b[0m \u001b[38;5;28;01mexcept\u001b[39;00m \u001b[38;5;167;01mTypeError\u001b[39;00m:\n\u001b[0;32m   3625\u001b[0m     \u001b[38;5;66;03m# If we have a listlike key, _check_indexing_error will raise\u001b[39;00m\n\u001b[0;32m   3626\u001b[0m     \u001b[38;5;66;03m#  InvalidIndexError. Otherwise we fall through and re-raise\u001b[39;00m\n\u001b[0;32m   3627\u001b[0m     \u001b[38;5;66;03m#  the TypeError.\u001b[39;00m\n\u001b[0;32m   3628\u001b[0m     \u001b[38;5;28mself\u001b[39m\u001b[38;5;241m.\u001b[39m_check_indexing_error(key)\n",
      "\u001b[1;31mKeyError\u001b[0m: 'pie'"
     ]
    }
   ],
   "source": [
    "df3.groupby(['Department']).sum().plot(x='pie', y='CodeKata Score',\n",
    "title='Department wise codekata performence')"
   ]
  },
  {
   "cell_type": "code",
   "execution_count": null,
   "id": "3b53fa96",
   "metadata": {},
   "outputs": [],
   "source": []
  }
 ],
 "metadata": {
  "kernelspec": {
   "display_name": "Python 3 (ipykernel)",
   "language": "python",
   "name": "python3"
  },
  "language_info": {
   "codemirror_mode": {
    "name": "ipython",
    "version": 3
   },
   "file_extension": ".py",
   "mimetype": "text/x-python",
   "name": "python",
   "nbconvert_exporter": "python",
   "pygments_lexer": "ipython3",
   "version": "3.9.12"
  }
 },
 "nbformat": 4,
 "nbformat_minor": 5
}
